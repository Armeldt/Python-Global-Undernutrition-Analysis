{
 "cells": [
  {
   "cell_type": "markdown",
   "id": "d0109473-3fd9-4297-96a7-00fac4b32f8e",
   "metadata": {
    "tags": []
   },
   "source": [
    "# Projet 4 : étude de santé publique"
   ]
  },
  {
   "cell_type": "markdown",
   "id": "bbbe83f9-e473-47aa-885c-c20bbf7439ec",
   "metadata": {
    "tags": []
   },
   "source": [
    "## Les données :"
   ]
  },
  {
   "cell_type": "code",
   "execution_count": 1,
   "id": "42374adf-2f52-4487-97d7-5e9a7f07c066",
   "metadata": {},
   "outputs": [],
   "source": [
    "import pandas as pd\n",
    "import numpy as np\n",
    "import matplotlib.pyplot as plt\n",
    "import seaborn as sns"
   ]
  },
  {
   "cell_type": "code",
   "execution_count": 2,
   "id": "028cbe13-0607-4a18-9bdc-31fc3e53ba17",
   "metadata": {},
   "outputs": [],
   "source": [
    "aideAlimentaire = pd.read_csv('aide_alimentaire.csv')\n",
    "dispoAlimentaire = pd.read_csv('dispo_alimentaire.csv')\n",
    "population = pd.read_csv('population.csv')\n",
    "sousNutrition = pd.read_csv('sous_nutrition.csv')"
   ]
  },
  {
   "cell_type": "code",
   "execution_count": 3,
   "id": "4d0f844a-9519-4c94-850d-53215af515fe",
   "metadata": {},
   "outputs": [],
   "source": [
    "#dispoAlimentaire.head()\n",
    "# aideAlimentaire.head()\n",
    "# population.head()\n",
    "#sousNutrition.head()"
   ]
  },
  {
   "cell_type": "markdown",
   "id": "a3643fc1-8710-433c-8115-a3c3c7a4e91b",
   "metadata": {},
   "source": [
    "### Les étapes de data préparation :"
   ]
  },
  {
   "cell_type": "markdown",
   "id": "7afcc3df-711b-473e-84a0-4cb7964635ed",
   "metadata": {
    "jp-MarkdownHeadingCollapsed": true,
    "tags": []
   },
   "source": [
    "#### Gestion des valeurs <0.1 : "
   ]
  },
  {
   "cell_type": "code",
   "execution_count": 4,
   "id": "b82829fa-9f0f-4a2a-a444-34f9a78632da",
   "metadata": {},
   "outputs": [
    {
     "data": {
      "text/plain": [
       "array(['Arménie', 'Barbade', 'Belize', 'Cabo Verde',\n",
       "       'Chine - RAS de Macao', 'Chypre', 'Dominique', 'Fidji', 'Guyana',\n",
       "       'Îles Salomon', 'Kiribati', 'Macédoine du Nord', 'Maurice',\n",
       "       'Nouvelle-Calédonie', 'Polynésie française',\n",
       "       'Saint-Vincent-et-les Grenadines', 'Samoa', 'Sao Tomé-et-Principe',\n",
       "       'Suriname', 'Trinité-et-Tobago', 'Vanuatu'], dtype=object)"
      ]
     },
     "execution_count": 4,
     "metadata": {},
     "output_type": "execute_result"
    }
   ],
   "source": [
    "TestValSignif = sousNutrition.loc[sousNutrition['Valeur'] == '<0.1', :]\n",
    "TestValSignif['Zone'].unique()"
   ]
  },
  {
   "cell_type": "code",
   "execution_count": 5,
   "id": "55002e9f-4400-4138-bce9-ae31e806a8d8",
   "metadata": {},
   "outputs": [
    {
     "data": {
      "text/html": [
       "<div>\n",
       "<style scoped>\n",
       "    .dataframe tbody tr th:only-of-type {\n",
       "        vertical-align: middle;\n",
       "    }\n",
       "\n",
       "    .dataframe tbody tr th {\n",
       "        vertical-align: top;\n",
       "    }\n",
       "\n",
       "    .dataframe thead th {\n",
       "        text-align: right;\n",
       "    }\n",
       "</style>\n",
       "<table border=\"1\" class=\"dataframe\">\n",
       "  <thead>\n",
       "    <tr style=\"text-align: right;\">\n",
       "      <th></th>\n",
       "      <th>Année</th>\n",
       "      <th>Valeur</th>\n",
       "    </tr>\n",
       "    <tr>\n",
       "      <th>Zone</th>\n",
       "      <th></th>\n",
       "      <th></th>\n",
       "    </tr>\n",
       "  </thead>\n",
       "  <tbody>\n",
       "    <tr>\n",
       "      <th>Arménie</th>\n",
       "      <td>2015.5</td>\n",
       "      <td>2928.038167</td>\n",
       "    </tr>\n",
       "    <tr>\n",
       "      <th>Barbade</th>\n",
       "      <td>2015.5</td>\n",
       "      <td>285.519167</td>\n",
       "    </tr>\n",
       "    <tr>\n",
       "      <th>Belize</th>\n",
       "      <td>2015.5</td>\n",
       "      <td>364.542333</td>\n",
       "    </tr>\n",
       "    <tr>\n",
       "      <th>Cabo Verde</th>\n",
       "      <td>2015.5</td>\n",
       "      <td>527.862167</td>\n",
       "    </tr>\n",
       "    <tr>\n",
       "      <th>Chine - RAS de Macao</th>\n",
       "      <td>2015.5</td>\n",
       "      <td>606.120333</td>\n",
       "    </tr>\n",
       "    <tr>\n",
       "      <th>Chypre</th>\n",
       "      <td>2015.5</td>\n",
       "      <td>1166.044333</td>\n",
       "    </tr>\n",
       "    <tr>\n",
       "      <th>Dominique</th>\n",
       "      <td>2015.5</td>\n",
       "      <td>71.279000</td>\n",
       "    </tr>\n",
       "    <tr>\n",
       "      <th>Fidji</th>\n",
       "      <td>2015.5</td>\n",
       "      <td>872.338167</td>\n",
       "    </tr>\n",
       "    <tr>\n",
       "      <th>Guyana</th>\n",
       "      <td>2015.5</td>\n",
       "      <td>769.282167</td>\n",
       "    </tr>\n",
       "    <tr>\n",
       "      <th>Kiribati</th>\n",
       "      <td>2015.5</td>\n",
       "      <td>111.790000</td>\n",
       "    </tr>\n",
       "    <tr>\n",
       "      <th>Macédoine du Nord</th>\n",
       "      <td>2015.5</td>\n",
       "      <td>2079.811000</td>\n",
       "    </tr>\n",
       "    <tr>\n",
       "      <th>Maurice</th>\n",
       "      <td>2015.5</td>\n",
       "      <td>1260.968667</td>\n",
       "    </tr>\n",
       "    <tr>\n",
       "      <th>Nouvelle-Calédonie</th>\n",
       "      <td>2015.5</td>\n",
       "      <td>272.396667</td>\n",
       "    </tr>\n",
       "    <tr>\n",
       "      <th>Polynésie française</th>\n",
       "      <td>2015.5</td>\n",
       "      <td>273.918833</td>\n",
       "    </tr>\n",
       "    <tr>\n",
       "      <th>Saint-Vincent-et-les Grenadines</th>\n",
       "      <td>2015.5</td>\n",
       "      <td>109.354667</td>\n",
       "    </tr>\n",
       "    <tr>\n",
       "      <th>Samoa</th>\n",
       "      <td>2015.5</td>\n",
       "      <td>193.744667</td>\n",
       "    </tr>\n",
       "    <tr>\n",
       "      <th>Sao Tomé-et-Principe</th>\n",
       "      <td>2015.5</td>\n",
       "      <td>201.431667</td>\n",
       "    </tr>\n",
       "    <tr>\n",
       "      <th>Suriname</th>\n",
       "      <td>2015.5</td>\n",
       "      <td>561.846833</td>\n",
       "    </tr>\n",
       "    <tr>\n",
       "      <th>Trinité-et-Tobago</th>\n",
       "      <td>2015.5</td>\n",
       "      <td>1372.973000</td>\n",
       "    </tr>\n",
       "    <tr>\n",
       "      <th>Vanuatu</th>\n",
       "      <td>2015.5</td>\n",
       "      <td>274.695500</td>\n",
       "    </tr>\n",
       "    <tr>\n",
       "      <th>Îles Salomon</th>\n",
       "      <td>2015.5</td>\n",
       "      <td>611.644500</td>\n",
       "    </tr>\n",
       "  </tbody>\n",
       "</table>\n",
       "</div>"
      ],
      "text/plain": [
       "                                  Année       Valeur\n",
       "Zone                                                \n",
       "Arménie                          2015.5  2928.038167\n",
       "Barbade                          2015.5   285.519167\n",
       "Belize                           2015.5   364.542333\n",
       "Cabo Verde                       2015.5   527.862167\n",
       "Chine - RAS de Macao             2015.5   606.120333\n",
       "Chypre                           2015.5  1166.044333\n",
       "Dominique                        2015.5    71.279000\n",
       "Fidji                            2015.5   872.338167\n",
       "Guyana                           2015.5   769.282167\n",
       "Kiribati                         2015.5   111.790000\n",
       "Macédoine du Nord                2015.5  2079.811000\n",
       "Maurice                          2015.5  1260.968667\n",
       "Nouvelle-Calédonie               2015.5   272.396667\n",
       "Polynésie française              2015.5   273.918833\n",
       "Saint-Vincent-et-les Grenadines  2015.5   109.354667\n",
       "Samoa                            2015.5   193.744667\n",
       "Sao Tomé-et-Principe             2015.5   201.431667\n",
       "Suriname                         2015.5   561.846833\n",
       "Trinité-et-Tobago                2015.5  1372.973000\n",
       "Vanuatu                          2015.5   274.695500\n",
       "Îles Salomon                     2015.5   611.644500"
      ]
     },
     "execution_count": 5,
     "metadata": {},
     "output_type": "execute_result"
    }
   ],
   "source": [
    "list = ['Arménie', 'Barbade', 'Belize', 'Cabo Verde','Chine - RAS de Macao', 'Chypre', 'Dominique', 'Fidji', 'Guyana','Îles Salomon', 'Kiribati', 'Macédoine du Nord', 'Maurice','Nouvelle-Calédonie', 'Polynésie française','Saint-Vincent-et-les Grenadines', 'Samoa', 'Sao Tomé-et-Principe','Suriname', 'Trinité-et-Tobago', 'Vanuatu']\n",
    "TestValSignif2 = population.loc[population['Zone'].isin(list), :]\n",
    "TestValSignif2 = TestValSignif2.groupby(['Zone']).mean('Valeur')\n",
    "TestValSignif2"
   ]
  },
  {
   "cell_type": "markdown",
   "id": "c856c150-7e97-485c-9d70-963c15b18409",
   "metadata": {},
   "source": [
    "Seulement une vingtaine de localisations sont concernées et ces dernières font état d'une faible volume de population (entre 0,5 et 2 millions d'habitants), on va donc considérer que ces valeurs sont systématiquement égale a 0"
   ]
  },
  {
   "cell_type": "markdown",
   "id": "753e5752-7db4-4911-adfc-059eb7b563e6",
   "metadata": {
    "jp-MarkdownHeadingCollapsed": true,
    "tags": []
   },
   "source": [
    "#### Gestion des valeurs non renseignées : "
   ]
  },
  {
   "cell_type": "markdown",
   "id": "268f7c20-a3af-44fb-8e87-ab796f8697d1",
   "metadata": {},
   "source": [
    "Utilisation de la fonction dropna afin de ne pas impacter les calculs avec des valeurs non renseignées"
   ]
  },
  {
   "cell_type": "markdown",
   "id": "4339dac3-7924-416b-afe1-8dd0c196efbf",
   "metadata": {
    "jp-MarkdownHeadingCollapsed": true,
    "tags": []
   },
   "source": [
    "#### Gestion des plages de date (Dataframe sousNutrition) :"
   ]
  },
  {
   "cell_type": "code",
   "execution_count": 6,
   "id": "370ca3af-04e7-46c7-8bbf-4ef0464d46c3",
   "metadata": {},
   "outputs": [],
   "source": [
    "sousNutrition['Année'] = sousNutrition['Année'].str[5:]\n",
    "sousNutrition['Année'] = sousNutrition['Année'].astype('int64')\n",
    "sousNutrition['Année'] = sousNutrition['Année']-1"
   ]
  },
  {
   "cell_type": "markdown",
   "id": "25544949-b044-46aa-84f8-26c107ae0240",
   "metadata": {},
   "source": [
    "##  Etude sur la sous-nutrition dans le monde"
   ]
  },
  {
   "cell_type": "markdown",
   "id": "5fddc56a-2b7a-40ad-b499-99974354c481",
   "metadata": {
    "tags": []
   },
   "source": [
    "### 1. La proportion de personnes en état de sous nutrition"
   ]
  },
  {
   "cell_type": "code",
   "execution_count": 7,
   "id": "812c6d28-f679-435c-b439-eb8ad1005aff",
   "metadata": {},
   "outputs": [
    {
     "name": "stdout",
     "output_type": "stream",
     "text": [
      "La population totale en 2017 etait de 7548 millions de personnes\n"
     ]
    }
   ],
   "source": [
    "# population par pays en 2017 uniquement (en millions)\n",
    "pop2017 = population.loc[population['Année'] == 2017, :]\n",
    "pop2017 = round(pop2017.sum()['Valeur']/1000)\n",
    "print(\"La population totale en 2017 etait de\",pop2017,\"millions de personnes\")"
   ]
  },
  {
   "cell_type": "code",
   "execution_count": 8,
   "id": "88e8189f-071a-4d68-8ffb-9f8c74b25d25",
   "metadata": {},
   "outputs": [
    {
     "name": "stdout",
     "output_type": "stream",
     "text": [
      "Le nombre de personnes en etat de mal nutrition en 2017 etait de 535.7 millions de personnes\n"
     ]
    }
   ],
   "source": [
    "#Population en état de sous nutrition en 2017 en millions\n",
    "malNutrition2017 = sousNutrition.loc[sousNutrition['Année'] == 2017, :].copy()\n",
    "malNutrition2017.head()\n",
    "malNutrition2017.loc[malNutrition2017['Valeur']=='<0.1','Valeur']= 0\n",
    "malNutrition2017.dropna(inplace=True)\n",
    "malNutrition2017 = malNutrition2017.astype({'Valeur' : np.float64})\n",
    "malNutrition2017 = malNutrition2017.sum()['Valeur']\n",
    "print(\"Le nombre de personnes en etat de mal nutrition en 2017 etait de\",malNutrition2017,\"millions de personnes\")"
   ]
  },
  {
   "cell_type": "code",
   "execution_count": 9,
   "id": "141a96e5-1bae-492e-8d90-df133988c7c7",
   "metadata": {},
   "outputs": [
    {
     "name": "stdout",
     "output_type": "stream",
     "text": [
      "En 2017, on dénombre environ 535.7 millions de personnes en état de sous nutrition pour une population totale d'environ 7548 millions de personnes.\n",
      "On peut donc affirmer qu'environ 1 personne sur 15 etait en état de sous nutrition sur cette période (soit 7.097 %)\n"
     ]
    }
   ],
   "source": [
    "# calcul de la proportion de personnes en état de sous nutrition\n",
    "popSousNut = round(malNutrition2017 / pop2017 *100,3)\n",
    "print( \"En 2017, on dénombre environ\", malNutrition2017, \"millions de personnes en état de sous nutrition pour une population totale d'environ\", pop2017,\"millions de personnes.\") \n",
    "print( \"On peut donc affirmer qu'environ 1 personne sur 15 etait en état de sous nutrition sur cette période (soit\", popSousNut, \"%)\")"
   ]
  },
  {
   "cell_type": "markdown",
   "id": "3f0402ea-c464-4d4f-b444-2b286f77814f",
   "metadata": {},
   "source": [
    "### 2. le nombre théorique de personnes qui pourraient être nourries"
   ]
  },
  {
   "cell_type": "markdown",
   "id": "372c2d2f-366a-4732-9a71-56f8c0967691",
   "metadata": {},
   "source": [
    "La disponibilité alimentaire correspond à la disponibilité d'aliments en quantité suffisante et\n",
    "d'une qualité appropriée pour l’alimentation humaine."
   ]
  },
  {
   "cell_type": "markdown",
   "id": "b7d376d4-39b0-421c-b94a-949e67b5fef0",
   "metadata": {},
   "source": [
    "Une personne a besoin de 2500 kcal par jours pour se nourir convenablement"
   ]
  },
  {
   "cell_type": "code",
   "execution_count": 10,
   "id": "857eceab-8539-4b03-900e-2331225c78eb",
   "metadata": {},
   "outputs": [
    {
     "data": {
      "text/plain": [
       "array(['Abats Comestible', 'Agrumes, Autres', 'Aliments pour enfants',\n",
       "       'Ananas', 'Bananes', 'Beurre, Ghee', 'Bière', 'Blé',\n",
       "       'Boissons Alcooliques', 'Café', 'Coco (Incl Coprah)', 'Crème',\n",
       "       'Céréales, Autres', 'Dattes', 'Edulcorants Autres',\n",
       "       'Feve de Cacao', 'Fruits, Autres', 'Graines de coton',\n",
       "       'Graines de tournesol', 'Graisses Animales Crue',\n",
       "       'Huil Plantes Oleif Autr', 'Huile Graines de Coton',\n",
       "       \"Huile d'Arachide\", \"Huile d'Olive\", 'Huile de Colza&Moutarde',\n",
       "       'Huile de Palme', 'Huile de Soja', 'Huile de Sésame',\n",
       "       'Huile de Tournesol', 'Lait - Excl Beurre', 'Légumes, Autres',\n",
       "       'Légumineuses Autres', 'Maïs', 'Miel', 'Millet', 'Miscellanees',\n",
       "       'Noix', 'Oeufs', 'Olives', 'Oranges, Mandarines', 'Orge',\n",
       "       'Plantes Oleiferes, Autre', 'Poissons Eau Douce', 'Poivre',\n",
       "       'Pommes', 'Pommes de Terre', 'Raisin', 'Riz (Eq Blanchi)',\n",
       "       'Sucre Eq Brut', 'Sucre, betterave', 'Sucre, canne', 'Sésame',\n",
       "       'Thé', 'Tomates', \"Viande d'Ovins/Caprins\", 'Viande de Bovins',\n",
       "       'Viande de Volailles', 'Viande, Autre', 'Vin', 'Épices, Autres',\n",
       "       'Alcool, non Comestible', 'Animaux Aquatiques Autre',\n",
       "       'Arachides Decortiquees', 'Avoine', 'Bananes plantains',\n",
       "       'Boissons Fermentés', 'Cephalopodes', 'Citrons & Limes',\n",
       "       'Crustacés', 'Girofles', 'Graines Colza/Moutarde', 'Haricots',\n",
       "       'Huile de Coco', 'Huile de Germe de Maïs', 'Huile de Palmistes',\n",
       "       'Huiles de Foie de Poisso', 'Huiles de Poissons', 'Ignames',\n",
       "       'Manioc', 'Mollusques, Autres', 'Oignons', 'Palmistes',\n",
       "       'Pamplemousse', 'Patates douces', 'Perciform', 'Piments',\n",
       "       'Plantes Aquatiques', 'Pois', 'Poissons Marins, Autres',\n",
       "       'Poissons Pelagiques', 'Racines nda', 'Seigle', 'Soja', 'Sorgho',\n",
       "       'Viande de Suides', 'Huile de Son de Riz', 'Sucre non centrifugé',\n",
       "       'Viande de Anim Aquatiq'], dtype=object)"
      ]
     },
     "execution_count": 10,
     "metadata": {},
     "output_type": "execute_result"
    }
   ],
   "source": [
    "dispoAlimentaire['Produit'].unique() # on vérifie que le data frame ne comprenne que des produits comestibles par l'Homme"
   ]
  },
  {
   "cell_type": "code",
   "execution_count": 11,
   "id": "a6ce29a2-336e-4137-bbf7-be20eed4b1a3",
   "metadata": {},
   "outputs": [
    {
     "data": {
      "text/html": [
       "<div>\n",
       "<style scoped>\n",
       "    .dataframe tbody tr th:only-of-type {\n",
       "        vertical-align: middle;\n",
       "    }\n",
       "\n",
       "    .dataframe tbody tr th {\n",
       "        vertical-align: top;\n",
       "    }\n",
       "\n",
       "    .dataframe thead th {\n",
       "        text-align: right;\n",
       "    }\n",
       "</style>\n",
       "<table border=\"1\" class=\"dataframe\">\n",
       "  <thead>\n",
       "    <tr style=\"text-align: right;\">\n",
       "      <th></th>\n",
       "      <th>Zone</th>\n",
       "      <th>Année</th>\n",
       "      <th>Habitants</th>\n",
       "    </tr>\n",
       "  </thead>\n",
       "  <tbody>\n",
       "    <tr>\n",
       "      <th>4</th>\n",
       "      <td>Afghanistan</td>\n",
       "      <td>2017</td>\n",
       "      <td>36296.113</td>\n",
       "    </tr>\n",
       "    <tr>\n",
       "      <th>10</th>\n",
       "      <td>Afrique du Sud</td>\n",
       "      <td>2017</td>\n",
       "      <td>57009.756</td>\n",
       "    </tr>\n",
       "    <tr>\n",
       "      <th>16</th>\n",
       "      <td>Albanie</td>\n",
       "      <td>2017</td>\n",
       "      <td>2884.169</td>\n",
       "    </tr>\n",
       "    <tr>\n",
       "      <th>22</th>\n",
       "      <td>Algérie</td>\n",
       "      <td>2017</td>\n",
       "      <td>41389.189</td>\n",
       "    </tr>\n",
       "    <tr>\n",
       "      <th>28</th>\n",
       "      <td>Allemagne</td>\n",
       "      <td>2017</td>\n",
       "      <td>82658.409</td>\n",
       "    </tr>\n",
       "  </tbody>\n",
       "</table>\n",
       "</div>"
      ],
      "text/plain": [
       "              Zone  Année  Habitants\n",
       "4      Afghanistan   2017  36296.113\n",
       "10  Afrique du Sud   2017  57009.756\n",
       "16         Albanie   2017   2884.169\n",
       "22         Algérie   2017  41389.189\n",
       "28       Allemagne   2017  82658.409"
      ]
     },
     "execution_count": 11,
     "metadata": {},
     "output_type": "execute_result"
    }
   ],
   "source": [
    "# création d'un data frame affichant la population (en milliers) par pays pour l'année 2017\n",
    "pop2017 = population.loc[population['Année'] == 2017, :]\n",
    "pop2017 = pop2017.rename(columns = {'Valeur' : 'Habitants'})\n",
    "pop2017.head()"
   ]
  },
  {
   "cell_type": "code",
   "execution_count": 12,
   "id": "f3c6be22-c814-4f71-868e-7f325224b821",
   "metadata": {},
   "outputs": [
    {
     "data": {
      "text/plain": [
       "(174,)"
      ]
     },
     "execution_count": 12,
     "metadata": {},
     "output_type": "execute_result"
    }
   ],
   "source": [
    "dispoAlimentaire['Zone'].unique().shape #vérification du nombre de pays en amont de la fusion"
   ]
  },
  {
   "cell_type": "code",
   "execution_count": 13,
   "id": "325e5286-d2fc-4f34-88af-c02d6e24d020",
   "metadata": {},
   "outputs": [
    {
     "name": "stdout",
     "output_type": "stream",
     "text": [
      "La disponibilité mondiale totale en 2017 est de  7635429388975815.0 kcal\n"
     ]
    }
   ],
   "source": [
    "# fusion du df population 2017 avec le df Disponibilite alimentaire afin de pouvoir calculer la disponibilité alimentaire par pays, puis mondiale via un somme\n",
    "dispoAlimentaireMond = pd.merge (dispoAlimentaire, pop2017, on=['Zone'], how='left')\n",
    "dispoAlimentaireMond['dispo kcal'] = dispoAlimentaireMond['Disponibilité alimentaire (Kcal/personne/jour)'] * dispoAlimentaireMond['Habitants']*1000 *365\n",
    "print (\"La disponibilité mondiale totale en 2017 est de \", dispoAlimentaireMond['dispo kcal'].sum(), \"kcal\")"
   ]
  },
  {
   "cell_type": "code",
   "execution_count": 14,
   "id": "0855bf28-e46e-4d5c-b97e-99aea75f979a",
   "metadata": {},
   "outputs": [
    {
     "data": {
      "text/plain": [
       "(174,)"
      ]
     },
     "execution_count": 14,
     "metadata": {},
     "output_type": "execute_result"
    }
   ],
   "source": [
    "dispoAlimentaireMond['Zone'].unique().shape #vérification du nombre de pays après la fusion -> OK"
   ]
  },
  {
   "cell_type": "code",
   "execution_count": 15,
   "id": "26963abf-1b3f-479b-aeab-774daf5a3087",
   "metadata": {},
   "outputs": [
    {
     "name": "stdout",
     "output_type": "stream",
     "text": [
      "En 2017, avec la disponibilité mondiale totale on aurait pu nourrir 8367593851 personnes, soit 110.86 % de la population totale\n"
     ]
    }
   ],
   "source": [
    "# on vient ensuite calculer le nombre de personnes nourrissables en divisant la disponibilité mondiale en 2017 par le besoin annuel d'une personne pour avoir un volume de population nourrissable\n",
    "hNourrissable = round(dispoAlimentaireMond['dispo kcal'].sum()/(2500*365))\n",
    "# ce qui va nous permettre de calculer ensuite une proportion avec la population mondiale de la même année\n",
    "proportion = round(hNourrissable /(pop2017['Habitants'].sum()*1000)*100,2).item()\n",
    "print(\"En 2017, avec la disponibilité mondiale totale on aurait pu nourrir\", hNourrissable, \"personnes, soit\", proportion , \"% de la population totale\")"
   ]
  },
  {
   "cell_type": "markdown",
   "id": "324ab305-3b14-4553-b20a-1d723e6e3b63",
   "metadata": {
    "tags": []
   },
   "source": [
    "### 3. le nombre théorique de personnes qui pourraient être nourries uniquement sur la base de produits végétaux"
   ]
  },
  {
   "cell_type": "code",
   "execution_count": 16,
   "id": "307aa72a-feb7-491b-88a9-4e777f55bfec",
   "metadata": {},
   "outputs": [
    {
     "name": "stdout",
     "output_type": "stream",
     "text": [
      "La disponibilité mondiale de produits vegetaux en 2017 est de  6300178937197865.0 kcal\n"
     ]
    }
   ],
   "source": [
    "#même logique que le calcul précédent mais en venant filtrer le df Disponibilité Alimentaire seulement sur les produits d'origine vegetale\n",
    "dispoVege = dispoAlimentaire.loc[dispoAlimentaire['Origine'] == \"vegetale\", :] \n",
    "dispoVege = dispoVege.merge(population.loc[population['Année'] == 2017,['Zone', 'Valeur']], on='Zone')\n",
    "dispoVege['dispo kcal'] = dispoVege['Disponibilité alimentaire (Kcal/personne/jour)'] * dispoVege['Valeur']*1000 *365\n",
    "print (\"La disponibilité mondiale de produits vegetaux en 2017 est de \", dispoVege['dispo kcal'].sum(), \"kcal\")"
   ]
  },
  {
   "cell_type": "code",
   "execution_count": 17,
   "id": "de171c98-6656-4d98-9a36-0b476b134555",
   "metadata": {},
   "outputs": [
    {
     "name": "stdout",
     "output_type": "stream",
     "text": [
      "En 2017, avec la disponibilité mondiale de produits vegetaux on aurait pu nourrir 6904305685 personnes, soit 91.47 % de la population totale\n"
     ]
    }
   ],
   "source": [
    "hNourrissableVege = round(dispoVege['dispo kcal'].sum()/(2500*365))\n",
    "proportion = round(hNourrissableVege/(pop2017['Habitants'].sum()*1000)*100,2).item()\n",
    "print(\"En 2017, avec la disponibilité mondiale de produits vegetaux on aurait pu nourrir\", hNourrissableVege, \"personnes, soit\", proportion , \"% de la population totale\")"
   ]
  },
  {
   "cell_type": "markdown",
   "id": "8247cd28-a9ac-43dd-a786-f9f8544caff1",
   "metadata": {},
   "source": [
    "### 4. l’utilisation de la disponibilité intérieure, en particulier la part qui est attribuée à l’alimentation animale, celle qui est perdue et celle qui est concrètement utilisée pour l'alimentation humaine. "
   ]
  },
  {
   "cell_type": "markdown",
   "id": "ff5a44ac-ea93-4ad6-8dfb-ac1683fd906e",
   "metadata": {},
   "source": [
    "Il existe deux méthodes pour calculer la disponibilité intérieur :"
   ]
  },
  {
   "cell_type": "markdown",
   "id": "8d39ee90-9416-4160-882f-d946b341eaf6",
   "metadata": {
    "tags": []
   },
   "source": [
    "**Production + Importations - Exportations + Variation de stock = Disponibilité Intérieur = Semences + Pertes + Nourriture + Aliments pour animaux + Traitement + Autres utilisations**"
   ]
  },
  {
   "cell_type": "code",
   "execution_count": 18,
   "id": "00c70bc6-e8ab-46f6-be7b-e8b3bc6d7db3",
   "metadata": {},
   "outputs": [
    {
     "data": {
      "text/html": [
       "<div>\n",
       "<style scoped>\n",
       "    .dataframe tbody tr th:only-of-type {\n",
       "        vertical-align: middle;\n",
       "    }\n",
       "\n",
       "    .dataframe tbody tr th {\n",
       "        vertical-align: top;\n",
       "    }\n",
       "\n",
       "    .dataframe thead th {\n",
       "        text-align: right;\n",
       "    }\n",
       "</style>\n",
       "<table border=\"1\" class=\"dataframe\">\n",
       "  <thead>\n",
       "    <tr style=\"text-align: right;\">\n",
       "      <th></th>\n",
       "      <th>Aliments pour animaux</th>\n",
       "      <th>Autres Utilisations</th>\n",
       "      <th>Disponibilité alimentaire (Kcal/personne/jour)</th>\n",
       "      <th>Disponibilité alimentaire en quantité (kg/personne/an)</th>\n",
       "      <th>Disponibilité de matière grasse en quantité (g/personne/jour)</th>\n",
       "      <th>Disponibilité de protéines en quantité (g/personne/jour)</th>\n",
       "      <th>Disponibilité intérieure</th>\n",
       "      <th>Exportations - Quantité</th>\n",
       "      <th>Importations - Quantité</th>\n",
       "      <th>Nourriture</th>\n",
       "      <th>Pertes</th>\n",
       "      <th>Production</th>\n",
       "      <th>Semences</th>\n",
       "      <th>Traitement</th>\n",
       "      <th>Variation de stock</th>\n",
       "      <th>DispoIntCalcul1</th>\n",
       "      <th>DispoIntCalcul2</th>\n",
       "    </tr>\n",
       "    <tr>\n",
       "      <th>Zone</th>\n",
       "      <th></th>\n",
       "      <th></th>\n",
       "      <th></th>\n",
       "      <th></th>\n",
       "      <th></th>\n",
       "      <th></th>\n",
       "      <th></th>\n",
       "      <th></th>\n",
       "      <th></th>\n",
       "      <th></th>\n",
       "      <th></th>\n",
       "      <th></th>\n",
       "      <th></th>\n",
       "      <th></th>\n",
       "      <th></th>\n",
       "      <th></th>\n",
       "      <th></th>\n",
       "    </tr>\n",
       "  </thead>\n",
       "  <tbody>\n",
       "    <tr>\n",
       "      <th>Afghanistan</th>\n",
       "      <td>768.0</td>\n",
       "      <td>415.0</td>\n",
       "      <td>2087.0</td>\n",
       "      <td>351.41</td>\n",
       "      <td>33.50</td>\n",
       "      <td>58.26</td>\n",
       "      <td>13515.0</td>\n",
       "      <td>278.0</td>\n",
       "      <td>2988.0</td>\n",
       "      <td>10735.0</td>\n",
       "      <td>1135.0</td>\n",
       "      <td>11171.0</td>\n",
       "      <td>395.0</td>\n",
       "      <td>63.0</td>\n",
       "      <td>-368.0</td>\n",
       "      <td>13513.0</td>\n",
       "      <td>13511.0</td>\n",
       "    </tr>\n",
       "    <tr>\n",
       "      <th>Afrique du Sud</th>\n",
       "      <td>5309.0</td>\n",
       "      <td>876.0</td>\n",
       "      <td>3020.0</td>\n",
       "      <td>564.80</td>\n",
       "      <td>83.58</td>\n",
       "      <td>85.33</td>\n",
       "      <td>61256.0</td>\n",
       "      <td>11674.0</td>\n",
       "      <td>7517.0</td>\n",
       "      <td>29812.0</td>\n",
       "      <td>2193.0</td>\n",
       "      <td>63263.0</td>\n",
       "      <td>253.0</td>\n",
       "      <td>22819.0</td>\n",
       "      <td>2153.0</td>\n",
       "      <td>61259.0</td>\n",
       "      <td>61262.0</td>\n",
       "    </tr>\n",
       "    <tr>\n",
       "      <th>Albanie</th>\n",
       "      <td>660.0</td>\n",
       "      <td>174.0</td>\n",
       "      <td>3188.0</td>\n",
       "      <td>1095.54</td>\n",
       "      <td>106.48</td>\n",
       "      <td>111.37</td>\n",
       "      <td>4758.0</td>\n",
       "      <td>94.0</td>\n",
       "      <td>933.0</td>\n",
       "      <td>3476.0</td>\n",
       "      <td>276.0</td>\n",
       "      <td>3964.0</td>\n",
       "      <td>55.0</td>\n",
       "      <td>113.0</td>\n",
       "      <td>-45.0</td>\n",
       "      <td>4758.0</td>\n",
       "      <td>4754.0</td>\n",
       "    </tr>\n",
       "    <tr>\n",
       "      <th>Algérie</th>\n",
       "      <td>4352.0</td>\n",
       "      <td>1707.0</td>\n",
       "      <td>3293.0</td>\n",
       "      <td>809.13</td>\n",
       "      <td>76.48</td>\n",
       "      <td>91.92</td>\n",
       "      <td>42630.0</td>\n",
       "      <td>655.0</td>\n",
       "      <td>17403.0</td>\n",
       "      <td>31729.0</td>\n",
       "      <td>3753.0</td>\n",
       "      <td>26359.0</td>\n",
       "      <td>449.0</td>\n",
       "      <td>637.0</td>\n",
       "      <td>-479.0</td>\n",
       "      <td>42628.0</td>\n",
       "      <td>42627.0</td>\n",
       "    </tr>\n",
       "    <tr>\n",
       "      <th>Allemagne</th>\n",
       "      <td>30209.0</td>\n",
       "      <td>7711.0</td>\n",
       "      <td>3503.0</td>\n",
       "      <td>957.52</td>\n",
       "      <td>141.62</td>\n",
       "      <td>101.39</td>\n",
       "      <td>162275.0</td>\n",
       "      <td>57431.0</td>\n",
       "      <td>65353.0</td>\n",
       "      <td>79238.0</td>\n",
       "      <td>3781.0</td>\n",
       "      <td>154547.0</td>\n",
       "      <td>1551.0</td>\n",
       "      <td>39842.0</td>\n",
       "      <td>-192.0</td>\n",
       "      <td>162277.0</td>\n",
       "      <td>162332.0</td>\n",
       "    </tr>\n",
       "  </tbody>\n",
       "</table>\n",
       "</div>"
      ],
      "text/plain": [
       "                Aliments pour animaux  Autres Utilisations  \\\n",
       "Zone                                                         \n",
       "Afghanistan                     768.0                415.0   \n",
       "Afrique du Sud                 5309.0                876.0   \n",
       "Albanie                         660.0                174.0   \n",
       "Algérie                        4352.0               1707.0   \n",
       "Allemagne                     30209.0               7711.0   \n",
       "\n",
       "                Disponibilité alimentaire (Kcal/personne/jour)  \\\n",
       "Zone                                                             \n",
       "Afghanistan                                             2087.0   \n",
       "Afrique du Sud                                          3020.0   \n",
       "Albanie                                                 3188.0   \n",
       "Algérie                                                 3293.0   \n",
       "Allemagne                                               3503.0   \n",
       "\n",
       "                Disponibilité alimentaire en quantité (kg/personne/an)  \\\n",
       "Zone                                                                     \n",
       "Afghanistan                                                351.41        \n",
       "Afrique du Sud                                             564.80        \n",
       "Albanie                                                   1095.54        \n",
       "Algérie                                                    809.13        \n",
       "Allemagne                                                  957.52        \n",
       "\n",
       "                Disponibilité de matière grasse en quantité (g/personne/jour)  \\\n",
       "Zone                                                                            \n",
       "Afghanistan                                                 33.50               \n",
       "Afrique du Sud                                              83.58               \n",
       "Albanie                                                    106.48               \n",
       "Algérie                                                     76.48               \n",
       "Allemagne                                                  141.62               \n",
       "\n",
       "                Disponibilité de protéines en quantité (g/personne/jour)  \\\n",
       "Zone                                                                       \n",
       "Afghanistan                                                 58.26          \n",
       "Afrique du Sud                                              85.33          \n",
       "Albanie                                                    111.37          \n",
       "Algérie                                                     91.92          \n",
       "Allemagne                                                  101.39          \n",
       "\n",
       "                Disponibilité intérieure  Exportations - Quantité  \\\n",
       "Zone                                                                \n",
       "Afghanistan                      13515.0                    278.0   \n",
       "Afrique du Sud                   61256.0                  11674.0   \n",
       "Albanie                           4758.0                     94.0   \n",
       "Algérie                          42630.0                    655.0   \n",
       "Allemagne                       162275.0                  57431.0   \n",
       "\n",
       "                Importations - Quantité  Nourriture  Pertes  Production  \\\n",
       "Zone                                                                      \n",
       "Afghanistan                      2988.0     10735.0  1135.0     11171.0   \n",
       "Afrique du Sud                   7517.0     29812.0  2193.0     63263.0   \n",
       "Albanie                           933.0      3476.0   276.0      3964.0   \n",
       "Algérie                         17403.0     31729.0  3753.0     26359.0   \n",
       "Allemagne                       65353.0     79238.0  3781.0    154547.0   \n",
       "\n",
       "                Semences  Traitement  Variation de stock  DispoIntCalcul1  \\\n",
       "Zone                                                                        \n",
       "Afghanistan        395.0        63.0              -368.0          13513.0   \n",
       "Afrique du Sud     253.0     22819.0              2153.0          61259.0   \n",
       "Albanie             55.0       113.0               -45.0           4758.0   \n",
       "Algérie            449.0       637.0              -479.0          42628.0   \n",
       "Allemagne         1551.0     39842.0              -192.0         162277.0   \n",
       "\n",
       "                DispoIntCalcul2  \n",
       "Zone                             \n",
       "Afghanistan             13511.0  \n",
       "Afrique du Sud          61262.0  \n",
       "Albanie                  4754.0  \n",
       "Algérie                 42627.0  \n",
       "Allemagne              162332.0  "
      ]
     },
     "execution_count": 18,
     "metadata": {},
     "output_type": "execute_result"
    }
   ],
   "source": [
    "# test des deux methodes de calcul de la disponibilité intérieur\n",
    "dispoIntMond = dispoAlimentaire.groupby(['Zone']).sum(numeric_only=True)\n",
    "dispoIntMond['DispoIntCalcul1'] = dispoIntMond['Production'] + dispoIntMond['Importations - Quantité'] - dispoIntMond['Exportations - Quantité'] + dispoIntMond['Variation de stock']\n",
    "dispoIntMond['DispoIntCalcul2'] = dispoIntMond['Semences'] + dispoIntMond['Pertes'] + dispoIntMond['Nourriture'] + dispoIntMond['Aliments pour animaux'] + dispoIntMond['Traitement'] + dispoIntMond['Autres Utilisations']\n",
    "dispoIntMond.head()"
   ]
  },
  {
   "cell_type": "markdown",
   "id": "5782eda9-d55f-4ebc-958a-391b9ac044c3",
   "metadata": {},
   "source": [
    "On cherche a déterminer l’utilisation de la disponibilité intérieure et notamment :\n",
    "- La part qui est attribuée à l’alimentation animale\n",
    "- La part perdue\n",
    "- La part concrètement utilisée pour l'alimentation humaine"
   ]
  },
  {
   "cell_type": "markdown",
   "id": "b7eefa3c-6207-4d0a-837a-4b95dda3d337",
   "metadata": {
    "tags": []
   },
   "source": [
    "##### Dispo intérieure mondiale annuelle d'aliments appropriés a l'humain en milliers de tonnes en 2013"
   ]
  },
  {
   "cell_type": "code",
   "execution_count": 19,
   "id": "8680e700-2f29-46ed-9230-34f5f53b3f8c",
   "metadata": {},
   "outputs": [
    {
     "name": "stdout",
     "output_type": "stream",
     "text": [
      "La disponibilité intérieur mondiale etait de 9848994 milliers de tonnes en 2013\n"
     ]
    }
   ],
   "source": [
    "# on viens simplement aditionner l'ensemble des valeurs de disponibilité intérieur pour en avoir le total en 2013\n",
    "dispoIntMond = round(dispoAlimentaire.sum()['Disponibilité intérieure'])\n",
    "print (\"La disponibilité intérieur mondiale etait de\",dispoIntMond, \"milliers de tonnes en 2013\")"
   ]
  },
  {
   "cell_type": "markdown",
   "id": "375cae4b-2f8f-4025-aec2-f52260a22bb4",
   "metadata": {},
   "source": [
    "##### Part dédiée a la nourriture des animaux"
   ]
  },
  {
   "cell_type": "code",
   "execution_count": 20,
   "id": "ab794daf-d5d8-4798-92bf-2a9363de3f1a",
   "metadata": {},
   "outputs": [
    {
     "name": "stdout",
     "output_type": "stream",
     "text": [
      "La part de la disponibilité intérieur mondiale dédiée a la nourriture des animaux en 2013 etait de 13.24 %\n"
     ]
    }
   ],
   "source": [
    "# on viens filter le df dispo Alimentaire sur la typologie qui nous intéresse (ici Aliments pour animaux) pour ensuite pouvoir aditionner les volumes et comparer avec le total calculé juste au dessus\n",
    "alimAnimale = dispoAlimentaire.loc[dispoAlimentaire['Aliments pour animaux'] > 0, :]\n",
    "alimAnimale = alimAnimale.sum()['Aliments pour animaux']\n",
    "propAlimAnimale = round(alimAnimale / dispoIntMond * 100,2)\n",
    "print (\"La part de la disponibilité intérieur mondiale dédiée a la nourriture des animaux en 2013 etait de\",propAlimAnimale,\"%\")"
   ]
  },
  {
   "cell_type": "markdown",
   "id": "45bf754c-dfa6-4cef-b0c0-c61dbcd860a2",
   "metadata": {},
   "source": [
    "##### Part perdue"
   ]
  },
  {
   "cell_type": "code",
   "execution_count": 21,
   "id": "4f41a9bc-2708-42a0-b951-53d142b16699",
   "metadata": {
    "tags": []
   },
   "outputs": [
    {
     "name": "stdout",
     "output_type": "stream",
     "text": [
      "La part de la disponibilité intérieur mondiale perdue en 2013 etait de 4.61 %\n"
     ]
    }
   ],
   "source": [
    "pertes = dispoAlimentaire.loc[dispoAlimentaire['Pertes'] > 0, :]\n",
    "pertes = pertes.sum()['Pertes']\n",
    "propPertes = round(pertes / dispoIntMond * 100,2)\n",
    "print (\"La part de la disponibilité intérieur mondiale perdue en 2013 etait de\",propPertes,\"%\")"
   ]
  },
  {
   "cell_type": "markdown",
   "id": "df6e0eec-5d2b-452f-b5e4-29bb8bba3e75",
   "metadata": {},
   "source": [
    "##### Part utilisée pour l'alimentation humaine"
   ]
  },
  {
   "cell_type": "code",
   "execution_count": 22,
   "id": "bd86f9f5-c820-4bc6-b143-97dffe015827",
   "metadata": {},
   "outputs": [
    {
     "name": "stdout",
     "output_type": "stream",
     "text": [
      "La part de la disponibilité intérieur mondiale dédiée a la nourriture des hommes en 2013 etait de 49.51 %\n"
     ]
    }
   ],
   "source": [
    "alimHumaine = dispoAlimentaire.loc[dispoAlimentaire['Nourriture'] > 0, :]\n",
    "alimHumaine = alimHumaine.sum()['Nourriture']\n",
    "propAlimHumaine = round(alimHumaine / dispoIntMond * 100,2)\n",
    "print (\"La part de la disponibilité intérieur mondiale dédiée a la nourriture des hommes en 2013 etait de\",propAlimHumaine,\"%\")"
   ]
  },
  {
   "cell_type": "markdown",
   "id": "df0f3481-1cc1-4d76-8543-34e7e3b21ef4",
   "metadata": {},
   "source": [
    "##  Questions de Mélanie"
   ]
  },
  {
   "cell_type": "markdown",
   "id": "ab5422d8-4bc0-4ce8-b240-0436cc4ea138",
   "metadata": {},
   "source": [
    "### 1. Pays pour lesquels la proportion de personnes sous-alimentées est la plus forte en 2017"
   ]
  },
  {
   "cell_type": "code",
   "execution_count": 23,
   "id": "cfb568f3-89fb-490b-aed4-fc8f4b32716d",
   "metadata": {},
   "outputs": [
    {
     "data": {
      "text/html": [
       "<div>\n",
       "<style scoped>\n",
       "    .dataframe tbody tr th:only-of-type {\n",
       "        vertical-align: middle;\n",
       "    }\n",
       "\n",
       "    .dataframe tbody tr th {\n",
       "        vertical-align: top;\n",
       "    }\n",
       "\n",
       "    .dataframe thead th {\n",
       "        text-align: right;\n",
       "    }\n",
       "</style>\n",
       "<table border=\"1\" class=\"dataframe\">\n",
       "  <thead>\n",
       "    <tr style=\"text-align: right;\">\n",
       "      <th></th>\n",
       "      <th>Zone</th>\n",
       "      <th>Année</th>\n",
       "      <th>Personnes sous alimentées</th>\n",
       "    </tr>\n",
       "  </thead>\n",
       "  <tbody>\n",
       "    <tr>\n",
       "      <th>4</th>\n",
       "      <td>Afghanistan</td>\n",
       "      <td>2017</td>\n",
       "      <td>10.5</td>\n",
       "    </tr>\n",
       "    <tr>\n",
       "      <th>10</th>\n",
       "      <td>Afrique du Sud</td>\n",
       "      <td>2017</td>\n",
       "      <td>3.1</td>\n",
       "    </tr>\n",
       "    <tr>\n",
       "      <th>16</th>\n",
       "      <td>Albanie</td>\n",
       "      <td>2017</td>\n",
       "      <td>0.1</td>\n",
       "    </tr>\n",
       "    <tr>\n",
       "      <th>22</th>\n",
       "      <td>Algérie</td>\n",
       "      <td>2017</td>\n",
       "      <td>1.3</td>\n",
       "    </tr>\n",
       "    <tr>\n",
       "      <th>40</th>\n",
       "      <td>Angola</td>\n",
       "      <td>2017</td>\n",
       "      <td>5.8</td>\n",
       "    </tr>\n",
       "  </tbody>\n",
       "</table>\n",
       "</div>"
      ],
      "text/plain": [
       "              Zone  Année Personnes sous alimentées\n",
       "4      Afghanistan   2017                      10.5\n",
       "10  Afrique du Sud   2017                       3.1\n",
       "16         Albanie   2017                       0.1\n",
       "22         Algérie   2017                       1.3\n",
       "40          Angola   2017                       5.8"
      ]
     },
     "execution_count": 23,
     "metadata": {},
     "output_type": "execute_result"
    }
   ],
   "source": [
    "# data frame sous nutrition filtré sur 2017\n",
    "sousNut2017 = sousNutrition.loc[sousNutrition['Année'] == 2017, :].copy()\n",
    "sousNut2017.dropna(inplace=True)\n",
    "sousNut2017.rename(columns = {'Valeur':'Personnes sous alimentées'}, inplace = True)\n",
    "sousNut2017.head()"
   ]
  },
  {
   "cell_type": "code",
   "execution_count": 24,
   "id": "819b33e6-a1ec-4704-9aba-b297481c8d19",
   "metadata": {},
   "outputs": [
    {
     "data": {
      "text/html": [
       "<div>\n",
       "<style scoped>\n",
       "    .dataframe tbody tr th:only-of-type {\n",
       "        vertical-align: middle;\n",
       "    }\n",
       "\n",
       "    .dataframe tbody tr th {\n",
       "        vertical-align: top;\n",
       "    }\n",
       "\n",
       "    .dataframe thead th {\n",
       "        text-align: right;\n",
       "    }\n",
       "</style>\n",
       "<table border=\"1\" class=\"dataframe\">\n",
       "  <thead>\n",
       "    <tr style=\"text-align: right;\">\n",
       "      <th></th>\n",
       "      <th>Zone</th>\n",
       "      <th>Année</th>\n",
       "      <th>Habitants</th>\n",
       "    </tr>\n",
       "  </thead>\n",
       "  <tbody>\n",
       "    <tr>\n",
       "      <th>4</th>\n",
       "      <td>Afghanistan</td>\n",
       "      <td>2017</td>\n",
       "      <td>36.296113</td>\n",
       "    </tr>\n",
       "    <tr>\n",
       "      <th>10</th>\n",
       "      <td>Afrique du Sud</td>\n",
       "      <td>2017</td>\n",
       "      <td>57.009756</td>\n",
       "    </tr>\n",
       "    <tr>\n",
       "      <th>16</th>\n",
       "      <td>Albanie</td>\n",
       "      <td>2017</td>\n",
       "      <td>2.884169</td>\n",
       "    </tr>\n",
       "    <tr>\n",
       "      <th>22</th>\n",
       "      <td>Algérie</td>\n",
       "      <td>2017</td>\n",
       "      <td>41.389189</td>\n",
       "    </tr>\n",
       "    <tr>\n",
       "      <th>28</th>\n",
       "      <td>Allemagne</td>\n",
       "      <td>2017</td>\n",
       "      <td>82.658409</td>\n",
       "    </tr>\n",
       "    <tr>\n",
       "      <th>...</th>\n",
       "      <td>...</td>\n",
       "      <td>...</td>\n",
       "      <td>...</td>\n",
       "    </tr>\n",
       "    <tr>\n",
       "      <th>1390</th>\n",
       "      <td>Venezuela (République bolivarienne du)</td>\n",
       "      <td>2017</td>\n",
       "      <td>29.402484</td>\n",
       "    </tr>\n",
       "    <tr>\n",
       "      <th>1396</th>\n",
       "      <td>Viet Nam</td>\n",
       "      <td>2017</td>\n",
       "      <td>94.600648</td>\n",
       "    </tr>\n",
       "    <tr>\n",
       "      <th>1402</th>\n",
       "      <td>Yémen</td>\n",
       "      <td>2017</td>\n",
       "      <td>27.834819</td>\n",
       "    </tr>\n",
       "    <tr>\n",
       "      <th>1408</th>\n",
       "      <td>Zambie</td>\n",
       "      <td>2017</td>\n",
       "      <td>16.853599</td>\n",
       "    </tr>\n",
       "    <tr>\n",
       "      <th>1414</th>\n",
       "      <td>Zimbabwe</td>\n",
       "      <td>2017</td>\n",
       "      <td>14.236595</td>\n",
       "    </tr>\n",
       "  </tbody>\n",
       "</table>\n",
       "<p>236 rows × 3 columns</p>\n",
       "</div>"
      ],
      "text/plain": [
       "                                        Zone  Année  Habitants\n",
       "4                                Afghanistan   2017  36.296113\n",
       "10                            Afrique du Sud   2017  57.009756\n",
       "16                                   Albanie   2017   2.884169\n",
       "22                                   Algérie   2017  41.389189\n",
       "28                                 Allemagne   2017  82.658409\n",
       "...                                      ...    ...        ...\n",
       "1390  Venezuela (République bolivarienne du)   2017  29.402484\n",
       "1396                                Viet Nam   2017  94.600648\n",
       "1402                                   Yémen   2017  27.834819\n",
       "1408                                  Zambie   2017  16.853599\n",
       "1414                                Zimbabwe   2017  14.236595\n",
       "\n",
       "[236 rows x 3 columns]"
      ]
     },
     "execution_count": 24,
     "metadata": {},
     "output_type": "execute_result"
    }
   ],
   "source": [
    "# data frame population filtré sur 2017 (en millions d'habitants)\n",
    "pop2017['Habitants'] = pop2017['Habitants'] /1000 \n",
    "pop2017"
   ]
  },
  {
   "cell_type": "code",
   "execution_count": 25,
   "id": "853808c3-d6ec-48bd-93a7-daa97520c9cb",
   "metadata": {},
   "outputs": [
    {
     "data": {
      "text/html": [
       "<div>\n",
       "<style scoped>\n",
       "    .dataframe tbody tr th:only-of-type {\n",
       "        vertical-align: middle;\n",
       "    }\n",
       "\n",
       "    .dataframe tbody tr th {\n",
       "        vertical-align: top;\n",
       "    }\n",
       "\n",
       "    .dataframe thead th {\n",
       "        text-align: right;\n",
       "    }\n",
       "</style>\n",
       "<table border=\"1\" class=\"dataframe\">\n",
       "  <thead>\n",
       "    <tr style=\"text-align: right;\">\n",
       "      <th></th>\n",
       "      <th>Zone</th>\n",
       "      <th>Année</th>\n",
       "      <th>Habitants</th>\n",
       "      <th>Personnes sous alimentées</th>\n",
       "      <th>Proportion de sous nutrition</th>\n",
       "    </tr>\n",
       "  </thead>\n",
       "  <tbody>\n",
       "    <tr>\n",
       "      <th>87</th>\n",
       "      <td>Haïti</td>\n",
       "      <td>2017</td>\n",
       "      <td>10.982366</td>\n",
       "      <td>5.3</td>\n",
       "      <td>48.26</td>\n",
       "    </tr>\n",
       "    <tr>\n",
       "      <th>181</th>\n",
       "      <td>République populaire démocratique de Corée</td>\n",
       "      <td>2017</td>\n",
       "      <td>25.429825</td>\n",
       "      <td>12.0</td>\n",
       "      <td>47.19</td>\n",
       "    </tr>\n",
       "    <tr>\n",
       "      <th>128</th>\n",
       "      <td>Madagascar</td>\n",
       "      <td>2017</td>\n",
       "      <td>25.570512</td>\n",
       "      <td>10.5</td>\n",
       "      <td>41.06</td>\n",
       "    </tr>\n",
       "    <tr>\n",
       "      <th>122</th>\n",
       "      <td>Libéria</td>\n",
       "      <td>2017</td>\n",
       "      <td>4.702226</td>\n",
       "      <td>1.8</td>\n",
       "      <td>38.28</td>\n",
       "    </tr>\n",
       "    <tr>\n",
       "      <th>119</th>\n",
       "      <td>Lesotho</td>\n",
       "      <td>2017</td>\n",
       "      <td>2.091534</td>\n",
       "      <td>0.8</td>\n",
       "      <td>38.25</td>\n",
       "    </tr>\n",
       "    <tr>\n",
       "      <th>216</th>\n",
       "      <td>Tchad</td>\n",
       "      <td>2017</td>\n",
       "      <td>15.016753</td>\n",
       "      <td>5.7</td>\n",
       "      <td>37.96</td>\n",
       "    </tr>\n",
       "    <tr>\n",
       "      <th>186</th>\n",
       "      <td>Rwanda</td>\n",
       "      <td>2017</td>\n",
       "      <td>11.980961</td>\n",
       "      <td>4.2</td>\n",
       "      <td>35.06</td>\n",
       "    </tr>\n",
       "    <tr>\n",
       "      <th>145</th>\n",
       "      <td>Mozambique</td>\n",
       "      <td>2017</td>\n",
       "      <td>28.649018</td>\n",
       "      <td>9.4</td>\n",
       "      <td>32.81</td>\n",
       "    </tr>\n",
       "    <tr>\n",
       "      <th>219</th>\n",
       "      <td>Timor-Leste</td>\n",
       "      <td>2017</td>\n",
       "      <td>1.243258</td>\n",
       "      <td>0.4</td>\n",
       "      <td>32.17</td>\n",
       "    </tr>\n",
       "    <tr>\n",
       "      <th>0</th>\n",
       "      <td>Afghanistan</td>\n",
       "      <td>2017</td>\n",
       "      <td>36.296113</td>\n",
       "      <td>10.5</td>\n",
       "      <td>28.93</td>\n",
       "    </tr>\n",
       "  </tbody>\n",
       "</table>\n",
       "</div>"
      ],
      "text/plain": [
       "                                           Zone  Année  Habitants  \\\n",
       "87                                        Haïti   2017  10.982366   \n",
       "181  République populaire démocratique de Corée   2017  25.429825   \n",
       "128                                  Madagascar   2017  25.570512   \n",
       "122                                     Libéria   2017   4.702226   \n",
       "119                                     Lesotho   2017   2.091534   \n",
       "216                                       Tchad   2017  15.016753   \n",
       "186                                      Rwanda   2017  11.980961   \n",
       "145                                  Mozambique   2017  28.649018   \n",
       "219                                 Timor-Leste   2017   1.243258   \n",
       "0                                   Afghanistan   2017  36.296113   \n",
       "\n",
       "     Personnes sous alimentées  Proportion de sous nutrition  \n",
       "87                         5.3                         48.26  \n",
       "181                       12.0                         47.19  \n",
       "128                       10.5                         41.06  \n",
       "122                        1.8                         38.28  \n",
       "119                        0.8                         38.25  \n",
       "216                        5.7                         37.96  \n",
       "186                        4.2                         35.06  \n",
       "145                        9.4                         32.81  \n",
       "219                        0.4                         32.17  \n",
       "0                         10.5                         28.93  "
      ]
     },
     "execution_count": 25,
     "metadata": {},
     "output_type": "execute_result"
    }
   ],
   "source": [
    "# data frame population  & sous nutritions fusionnés + calcul de l'indicateur de proportion\n",
    "propSousNut = pd.merge(pop2017, sousNut2017, on=['Zone','Année'], how='left')\n",
    "propSousNut.loc[propSousNut['Personnes sous alimentées']=='<0.1','Personnes sous alimentées']= 0\n",
    "propSousNut = propSousNut.astype({'Personnes sous alimentées' : np.float64})\n",
    "propSousNut['Proportion de sous nutrition'] = round(propSousNut['Personnes sous alimentées'] / propSousNut['Habitants'] *100,2)\n",
    "propSousNut.sort_values(by=['Proportion de sous nutrition'], ascending=False).head(10)"
   ]
  },
  {
   "cell_type": "code",
   "execution_count": 26,
   "id": "5f7f00df-e2c0-45de-a3e0-6c44fbb8bdcb",
   "metadata": {},
   "outputs": [
    {
     "data": {
      "image/png": "[encoded data removed]",
      "text/plain": [
       "<Figure size 800x400 with 1 Axes>"
      ]
     },
     "metadata": {},
     "output_type": "display_data"
    }
   ],
   "source": [
    "# mise en forme graphique via matplotlib\n",
    "df_2017_top = propSousNut.loc[propSousNut['Personnes sous alimentées'] >= 0.1].sort_values(by=['Proportion de sous nutrition']).tail(10)\n",
    "plt.figure(figsize=(8,4))\n",
    "plt.rcParams.update({'font.size': 10})\n",
    "plt.barh(df_2017_top['Zone'], df_2017_top['Proportion de sous nutrition'])\n",
    "plt.title( \"Pays les plus touchés par la sous nutrition\")\n",
    "plt.xlabel(\"Proportion de sous nutrition en %\")\n",
    "plt.grid(axis='x')"
   ]
  },
  {
   "cell_type": "markdown",
   "id": "eb2dc173-0d20-4855-8f49-83631fca038d",
   "metadata": {},
   "source": [
    "### 2. Pays ayant le plus bénéficié d'aides depuis 2013"
   ]
  },
  {
   "cell_type": "code",
   "execution_count": 27,
   "id": "efc08e61-3a9a-4786-949d-f7ac16360980",
   "metadata": {},
   "outputs": [
    {
     "data": {
      "text/html": [
       "<div>\n",
       "<style scoped>\n",
       "    .dataframe tbody tr th:only-of-type {\n",
       "        vertical-align: middle;\n",
       "    }\n",
       "\n",
       "    .dataframe tbody tr th {\n",
       "        vertical-align: top;\n",
       "    }\n",
       "\n",
       "    .dataframe thead th {\n",
       "        text-align: right;\n",
       "    }\n",
       "</style>\n",
       "<table border=\"1\" class=\"dataframe\">\n",
       "  <thead>\n",
       "    <tr style=\"text-align: right;\">\n",
       "      <th></th>\n",
       "      <th>Pays bénéficiaire</th>\n",
       "      <th>Quantité d'aides touchées (Tonnes)</th>\n",
       "    </tr>\n",
       "  </thead>\n",
       "  <tbody>\n",
       "    <tr>\n",
       "      <th>50</th>\n",
       "      <td>République arabe syrienne</td>\n",
       "      <td>1858943</td>\n",
       "    </tr>\n",
       "    <tr>\n",
       "      <th>75</th>\n",
       "      <td>Éthiopie</td>\n",
       "      <td>1381294</td>\n",
       "    </tr>\n",
       "    <tr>\n",
       "      <th>70</th>\n",
       "      <td>Yémen</td>\n",
       "      <td>1206484</td>\n",
       "    </tr>\n",
       "    <tr>\n",
       "      <th>61</th>\n",
       "      <td>Soudan du Sud</td>\n",
       "      <td>695248</td>\n",
       "    </tr>\n",
       "    <tr>\n",
       "      <th>60</th>\n",
       "      <td>Soudan</td>\n",
       "      <td>669784</td>\n",
       "    </tr>\n",
       "    <tr>\n",
       "      <th>30</th>\n",
       "      <td>Kenya</td>\n",
       "      <td>552836</td>\n",
       "    </tr>\n",
       "    <tr>\n",
       "      <th>3</th>\n",
       "      <td>Bangladesh</td>\n",
       "      <td>348188</td>\n",
       "    </tr>\n",
       "    <tr>\n",
       "      <th>59</th>\n",
       "      <td>Somalie</td>\n",
       "      <td>292678</td>\n",
       "    </tr>\n",
       "    <tr>\n",
       "      <th>53</th>\n",
       "      <td>République démocratique du Congo</td>\n",
       "      <td>288502</td>\n",
       "    </tr>\n",
       "    <tr>\n",
       "      <th>43</th>\n",
       "      <td>Niger</td>\n",
       "      <td>276344</td>\n",
       "    </tr>\n",
       "  </tbody>\n",
       "</table>\n",
       "</div>"
      ],
      "text/plain": [
       "                   Pays bénéficiaire  Quantité d'aides touchées (Tonnes)\n",
       "50         République arabe syrienne                             1858943\n",
       "75                          Éthiopie                             1381294\n",
       "70                             Yémen                             1206484\n",
       "61                     Soudan du Sud                              695248\n",
       "60                            Soudan                              669784\n",
       "30                             Kenya                              552836\n",
       "3                         Bangladesh                              348188\n",
       "59                           Somalie                              292678\n",
       "53  République démocratique du Congo                              288502\n",
       "43                             Niger                              276344"
      ]
     },
     "execution_count": 27,
     "metadata": {},
     "output_type": "execute_result"
    }
   ],
   "source": [
    "#on défini notre plage de date puis on filtre le df Aides Alimentaires avec cette liste\n",
    "plageDate = [2013, 2014, 2015, 2016, 2017]\n",
    "aideAlimFrom2013 = aideAlimentaire.loc[aideAlimentaire ['Année'].isin(plageDate), :]\n",
    "#on groupe le resultat par pays en aditionnant les valeurs (qui sont des milliers de tonnes d'aides reçues)\n",
    "aideAlimFrom2013 = (aideAlimFrom2013.groupby(['Pays bénéficiaire']).sum(numeric_only=True)[['Valeur']]).reset_index()\n",
    "# on vient renommer la colonne valeur pour une meilleur lisibilité\n",
    "aideAlimFrom2013.rename(columns = {'Valeur':\"Quantité d'aides touchées (Tonnes)\"}, inplace = True)\n",
    "# puis on vient trier pour n'afficher que les dix résultats les plus importants\n",
    "aideAlimFrom2013 = aideAlimFrom2013.sort_values(by=[\"Quantité d'aides touchées (Tonnes)\"], ascending=False)\n",
    "aideAlimFrom2013.head(10)"
   ]
  },
  {
   "cell_type": "code",
   "execution_count": 28,
   "id": "09ada6ba-f881-4d22-b3b7-f2c8684dc68b",
   "metadata": {},
   "outputs": [
    {
     "data": {
      "image/png": "[encoded data removed]",
      "text/plain": [
       "<Figure size 800x400 with 1 Axes>"
      ]
     },
     "metadata": {},
     "output_type": "display_data"
    }
   ],
   "source": [
    "aideAlimFrom2013 = aideAlimFrom2013.sort_values(by=[\"Quantité d'aides touchées (Tonnes)\"], ascending=True).tail(10)\n",
    "plt.figure(figsize=(8,4))\n",
    "plt.rcParams.update({'font.size': 10})\n",
    "plt.barh(aideAlimFrom2013[\"Pays bénéficiaire\"], aideAlimFrom2013[\"Quantité d'aides touchées (Tonnes)\"])\n",
    "plt.title( \"Pays ayant le plus touché d'aides alimentaires depuis 2013\")\n",
    "plt.xlabel(\"Quantité d'aide en millions de tonnes\")\n",
    "plt.grid(axis='x')"
   ]
  },
  {
   "cell_type": "markdown",
   "id": "8e61a06e-8aa0-4eca-825d-46b2e12c35c3",
   "metadata": {},
   "source": [
    "### 3. Pays ayant le plus de disponibilité par habitants & ceux en ayant le moins"
   ]
  },
  {
   "cell_type": "code",
   "execution_count": 29,
   "id": "466ca140-5317-4606-8b13-724a9dcc8358",
   "metadata": {},
   "outputs": [
    {
     "data": {
      "text/html": [
       "<div>\n",
       "<style scoped>\n",
       "    .dataframe tbody tr th:only-of-type {\n",
       "        vertical-align: middle;\n",
       "    }\n",
       "\n",
       "    .dataframe tbody tr th {\n",
       "        vertical-align: top;\n",
       "    }\n",
       "\n",
       "    .dataframe thead th {\n",
       "        text-align: right;\n",
       "    }\n",
       "</style>\n",
       "<table border=\"1\" class=\"dataframe\">\n",
       "  <thead>\n",
       "    <tr style=\"text-align: right;\">\n",
       "      <th></th>\n",
       "      <th>Disponibilité alimentaire (Kcal/personne/jour)</th>\n",
       "    </tr>\n",
       "    <tr>\n",
       "      <th>Zone</th>\n",
       "      <th></th>\n",
       "    </tr>\n",
       "  </thead>\n",
       "  <tbody>\n",
       "    <tr>\n",
       "      <th>Afghanistan</th>\n",
       "      <td>2087.0</td>\n",
       "    </tr>\n",
       "    <tr>\n",
       "      <th>Afrique du Sud</th>\n",
       "      <td>3020.0</td>\n",
       "    </tr>\n",
       "    <tr>\n",
       "      <th>Albanie</th>\n",
       "      <td>3188.0</td>\n",
       "    </tr>\n",
       "    <tr>\n",
       "      <th>Algérie</th>\n",
       "      <td>3293.0</td>\n",
       "    </tr>\n",
       "    <tr>\n",
       "      <th>Allemagne</th>\n",
       "      <td>3503.0</td>\n",
       "    </tr>\n",
       "  </tbody>\n",
       "</table>\n",
       "</div>"
      ],
      "text/plain": [
       "                Disponibilité alimentaire (Kcal/personne/jour)\n",
       "Zone                                                          \n",
       "Afghanistan                                             2087.0\n",
       "Afrique du Sud                                          3020.0\n",
       "Albanie                                                 3188.0\n",
       "Algérie                                                 3293.0\n",
       "Allemagne                                               3503.0"
      ]
     },
     "execution_count": 29,
     "metadata": {},
     "output_type": "execute_result"
    }
   ],
   "source": [
    "# on vient grouper par pays en aditionnant les valeurs de disponibilité alimentaire \n",
    "dispoIntParPays = dispoAlimentaire.groupby(['Zone']).sum(numeric_only=True)[['Disponibilité alimentaire (Kcal/personne/jour)']]\n",
    "dispoIntParPays.head()"
   ]
  },
  {
   "cell_type": "code",
   "execution_count": 30,
   "id": "0e1de700-bf15-4fa0-8d84-b06a87d3cb42",
   "metadata": {},
   "outputs": [
    {
     "data": {
      "text/html": [
       "<div>\n",
       "<style scoped>\n",
       "    .dataframe tbody tr th:only-of-type {\n",
       "        vertical-align: middle;\n",
       "    }\n",
       "\n",
       "    .dataframe tbody tr th {\n",
       "        vertical-align: top;\n",
       "    }\n",
       "\n",
       "    .dataframe thead th {\n",
       "        text-align: right;\n",
       "    }\n",
       "</style>\n",
       "<table border=\"1\" class=\"dataframe\">\n",
       "  <thead>\n",
       "    <tr style=\"text-align: right;\">\n",
       "      <th></th>\n",
       "      <th>Population 2013</th>\n",
       "    </tr>\n",
       "    <tr>\n",
       "      <th>Zone</th>\n",
       "      <th></th>\n",
       "    </tr>\n",
       "  </thead>\n",
       "  <tbody>\n",
       "    <tr>\n",
       "      <th>Afghanistan</th>\n",
       "      <td>32269589.0</td>\n",
       "    </tr>\n",
       "    <tr>\n",
       "      <th>Afrique du Sud</th>\n",
       "      <td>53687121.0</td>\n",
       "    </tr>\n",
       "    <tr>\n",
       "      <th>Albanie</th>\n",
       "      <td>2903790.0</td>\n",
       "    </tr>\n",
       "    <tr>\n",
       "      <th>Algérie</th>\n",
       "      <td>38140133.0</td>\n",
       "    </tr>\n",
       "    <tr>\n",
       "      <th>Allemagne</th>\n",
       "      <td>81174367.0</td>\n",
       "    </tr>\n",
       "  </tbody>\n",
       "</table>\n",
       "</div>"
      ],
      "text/plain": [
       "                Population 2013\n",
       "Zone                           \n",
       "Afghanistan          32269589.0\n",
       "Afrique du Sud       53687121.0\n",
       "Albanie               2903790.0\n",
       "Algérie              38140133.0\n",
       "Allemagne            81174367.0"
      ]
     },
     "execution_count": 30,
     "metadata": {},
     "output_type": "execute_result"
    }
   ],
   "source": [
    "# on vient créer un dataframe avec le resultat du filtrage du df population sur l'année 2013\n",
    "pop2013 = population.loc[population['Année'] == 2013, :]\n",
    "pop2013 = round((pop2013.groupby('Zone').sum()[['Valeur']]) * 1000) #pour avoir la population en habitants\n",
    "pop2013.rename(columns = {'Valeur': 'Population 2013'}, inplace = True)\n",
    "pop2013.head()"
   ]
  },
  {
   "cell_type": "code",
   "execution_count": 31,
   "id": "2cf55844-1386-435f-ad33-547b63f13d65",
   "metadata": {},
   "outputs": [
    {
     "data": {
      "text/html": [
       "<div>\n",
       "<style scoped>\n",
       "    .dataframe tbody tr th:only-of-type {\n",
       "        vertical-align: middle;\n",
       "    }\n",
       "\n",
       "    .dataframe tbody tr th {\n",
       "        vertical-align: top;\n",
       "    }\n",
       "\n",
       "    .dataframe thead th {\n",
       "        text-align: right;\n",
       "    }\n",
       "</style>\n",
       "<table border=\"1\" class=\"dataframe\">\n",
       "  <thead>\n",
       "    <tr style=\"text-align: right;\">\n",
       "      <th></th>\n",
       "      <th>Population 2013</th>\n",
       "      <th>Disponibilité alimentaire (Kcal/personne/jour)</th>\n",
       "    </tr>\n",
       "    <tr>\n",
       "      <th>Zone</th>\n",
       "      <th></th>\n",
       "      <th></th>\n",
       "    </tr>\n",
       "  </thead>\n",
       "  <tbody>\n",
       "    <tr>\n",
       "      <th>Autriche</th>\n",
       "      <td>8556189.0</td>\n",
       "      <td>3770.0</td>\n",
       "    </tr>\n",
       "    <tr>\n",
       "      <th>Belgique</th>\n",
       "      <td>11154009.0</td>\n",
       "      <td>3737.0</td>\n",
       "    </tr>\n",
       "    <tr>\n",
       "      <th>Turquie</th>\n",
       "      <td>75925462.0</td>\n",
       "      <td>3708.0</td>\n",
       "    </tr>\n",
       "    <tr>\n",
       "      <th>États-Unis d'Amérique</th>\n",
       "      <td>316400538.0</td>\n",
       "      <td>3682.0</td>\n",
       "    </tr>\n",
       "    <tr>\n",
       "      <th>Israël</th>\n",
       "      <td>7734841.0</td>\n",
       "      <td>3610.0</td>\n",
       "    </tr>\n",
       "    <tr>\n",
       "      <th>Irlande</th>\n",
       "      <td>4615422.0</td>\n",
       "      <td>3602.0</td>\n",
       "    </tr>\n",
       "    <tr>\n",
       "      <th>Italie</th>\n",
       "      <td>60166830.0</td>\n",
       "      <td>3578.0</td>\n",
       "    </tr>\n",
       "    <tr>\n",
       "      <th>Luxembourg</th>\n",
       "      <td>542560.0</td>\n",
       "      <td>3540.0</td>\n",
       "    </tr>\n",
       "    <tr>\n",
       "      <th>Égypte</th>\n",
       "      <td>88404646.0</td>\n",
       "      <td>3518.0</td>\n",
       "    </tr>\n",
       "    <tr>\n",
       "      <th>Allemagne</th>\n",
       "      <td>81174367.0</td>\n",
       "      <td>3503.0</td>\n",
       "    </tr>\n",
       "  </tbody>\n",
       "</table>\n",
       "</div>"
      ],
      "text/plain": [
       "                       Population 2013  \\\n",
       "Zone                                     \n",
       "Autriche                     8556189.0   \n",
       "Belgique                    11154009.0   \n",
       "Turquie                     75925462.0   \n",
       "États-Unis d'Amérique      316400538.0   \n",
       "Israël                       7734841.0   \n",
       "Irlande                      4615422.0   \n",
       "Italie                      60166830.0   \n",
       "Luxembourg                    542560.0   \n",
       "Égypte                      88404646.0   \n",
       "Allemagne                   81174367.0   \n",
       "\n",
       "                       Disponibilité alimentaire (Kcal/personne/jour)  \n",
       "Zone                                                                   \n",
       "Autriche                                                       3770.0  \n",
       "Belgique                                                       3737.0  \n",
       "Turquie                                                        3708.0  \n",
       "États-Unis d'Amérique                                          3682.0  \n",
       "Israël                                                         3610.0  \n",
       "Irlande                                                        3602.0  \n",
       "Italie                                                         3578.0  \n",
       "Luxembourg                                                     3540.0  \n",
       "Égypte                                                         3518.0  \n",
       "Allemagne                                                      3503.0  "
      ]
     },
     "execution_count": 31,
     "metadata": {},
     "output_type": "execute_result"
    }
   ],
   "source": [
    "#on fusionne nos deux data frames pour faire correspondre nos deux valeurs par pays (population & dispo alimentaire)\n",
    "dispoHab = pd.merge(pop2013, dispoIntParPays, on=['Zone'], how='left')\n",
    "#puis on vient trier pour avoir les dix prermiers pays\n",
    "dispoHab.sort_values(by=['Disponibilité alimentaire (Kcal/personne/jour)'], ascending=False).head(10)"
   ]
  },
  {
   "cell_type": "code",
   "execution_count": 32,
   "id": "6b5abfba-6b69-4350-b843-c5285a9cb214",
   "metadata": {},
   "outputs": [
    {
     "data": {
      "text/html": [
       "<div>\n",
       "<style scoped>\n",
       "    .dataframe tbody tr th:only-of-type {\n",
       "        vertical-align: middle;\n",
       "    }\n",
       "\n",
       "    .dataframe tbody tr th {\n",
       "        vertical-align: top;\n",
       "    }\n",
       "\n",
       "    .dataframe thead th {\n",
       "        text-align: right;\n",
       "    }\n",
       "</style>\n",
       "<table border=\"1\" class=\"dataframe\">\n",
       "  <thead>\n",
       "    <tr style=\"text-align: right;\">\n",
       "      <th></th>\n",
       "      <th>Population 2013</th>\n",
       "      <th>Disponibilité alimentaire (Kcal/personne/jour)</th>\n",
       "    </tr>\n",
       "    <tr>\n",
       "      <th>Zone</th>\n",
       "      <th></th>\n",
       "      <th></th>\n",
       "    </tr>\n",
       "  </thead>\n",
       "  <tbody>\n",
       "    <tr>\n",
       "      <th>Éthiopie</th>\n",
       "      <td>95385798.0</td>\n",
       "      <td>2129.0</td>\n",
       "    </tr>\n",
       "    <tr>\n",
       "      <th>Ouganda</th>\n",
       "      <td>35694519.0</td>\n",
       "      <td>2126.0</td>\n",
       "    </tr>\n",
       "    <tr>\n",
       "      <th>Zimbabwe</th>\n",
       "      <td>13350373.0</td>\n",
       "      <td>2113.0</td>\n",
       "    </tr>\n",
       "    <tr>\n",
       "      <th>Tchad</th>\n",
       "      <td>13220433.0</td>\n",
       "      <td>2109.0</td>\n",
       "    </tr>\n",
       "    <tr>\n",
       "      <th>République populaire démocratique de Corée</th>\n",
       "      <td>24929497.0</td>\n",
       "      <td>2093.0</td>\n",
       "    </tr>\n",
       "    <tr>\n",
       "      <th>Haïti</th>\n",
       "      <td>10400675.0</td>\n",
       "      <td>2089.0</td>\n",
       "    </tr>\n",
       "    <tr>\n",
       "      <th>Afghanistan</th>\n",
       "      <td>32269589.0</td>\n",
       "      <td>2087.0</td>\n",
       "    </tr>\n",
       "    <tr>\n",
       "      <th>Madagascar</th>\n",
       "      <td>22961255.0</td>\n",
       "      <td>2056.0</td>\n",
       "    </tr>\n",
       "    <tr>\n",
       "      <th>Zambie</th>\n",
       "      <td>14926544.0</td>\n",
       "      <td>1924.0</td>\n",
       "    </tr>\n",
       "    <tr>\n",
       "      <th>République centrafricaine</th>\n",
       "      <td>4447944.0</td>\n",
       "      <td>1879.0</td>\n",
       "    </tr>\n",
       "  </tbody>\n",
       "</table>\n",
       "</div>"
      ],
      "text/plain": [
       "                                            Population 2013  \\\n",
       "Zone                                                          \n",
       "Éthiopie                                         95385798.0   \n",
       "Ouganda                                          35694519.0   \n",
       "Zimbabwe                                         13350373.0   \n",
       "Tchad                                            13220433.0   \n",
       "République populaire démocratique de Corée       24929497.0   \n",
       "Haïti                                            10400675.0   \n",
       "Afghanistan                                      32269589.0   \n",
       "Madagascar                                       22961255.0   \n",
       "Zambie                                           14926544.0   \n",
       "République centrafricaine                         4447944.0   \n",
       "\n",
       "                                            Disponibilité alimentaire (Kcal/personne/jour)  \n",
       "Zone                                                                                        \n",
       "Éthiopie                                                                            2129.0  \n",
       "Ouganda                                                                             2126.0  \n",
       "Zimbabwe                                                                            2113.0  \n",
       "Tchad                                                                               2109.0  \n",
       "République populaire démocratique de Corée                                          2093.0  \n",
       "Haïti                                                                               2089.0  \n",
       "Afghanistan                                                                         2087.0  \n",
       "Madagascar                                                                          2056.0  \n",
       "Zambie                                                                              1924.0  \n",
       "République centrafricaine                                                           1879.0  "
      ]
     },
     "execution_count": 32,
     "metadata": {},
     "output_type": "execute_result"
    }
   ],
   "source": [
    "#même logique mais avec un tri pour afficher les dix dernier pays\n",
    "dispoHab = pd.merge(pop2013, dispoIntParPays, on=['Zone'], how='left')\n",
    "dispoHab.dropna(inplace=True)\n",
    "dispoHab.sort_values(by=['Disponibilité alimentaire (Kcal/personne/jour)'], ascending=False).tail(10)"
   ]
  },
  {
   "cell_type": "markdown",
   "id": "98a184bd-5004-4076-87d7-108a6d6d7eba",
   "metadata": {},
   "source": [
    "## Recherches de Julien"
   ]
  },
  {
   "cell_type": "markdown",
   "id": "4defbd30-24f7-4615-8789-d40c31deb002",
   "metadata": {
    "tags": []
   },
   "source": [
    "### 1. Utilisation des céréales"
   ]
  },
  {
   "cell_type": "code",
   "execution_count": 33,
   "id": "4884d466-8f24-4d3e-99b8-2ae83275576e",
   "metadata": {},
   "outputs": [
    {
     "data": {
      "text/plain": [
       "array(['Abats Comestible', 'Agrumes, Autres', 'Aliments pour enfants',\n",
       "       'Ananas', 'Bananes', 'Beurre, Ghee', 'Bière', 'Blé',\n",
       "       'Boissons Alcooliques', 'Café', 'Coco (Incl Coprah)', 'Crème',\n",
       "       'Céréales, Autres', 'Dattes', 'Edulcorants Autres',\n",
       "       'Feve de Cacao', 'Fruits, Autres', 'Graines de coton',\n",
       "       'Graines de tournesol', 'Graisses Animales Crue',\n",
       "       'Huil Plantes Oleif Autr', 'Huile Graines de Coton',\n",
       "       \"Huile d'Arachide\", \"Huile d'Olive\", 'Huile de Colza&Moutarde',\n",
       "       'Huile de Palme', 'Huile de Soja', 'Huile de Sésame',\n",
       "       'Huile de Tournesol', 'Lait - Excl Beurre', 'Légumes, Autres',\n",
       "       'Légumineuses Autres', 'Maïs', 'Miel', 'Millet', 'Miscellanees',\n",
       "       'Noix', 'Oeufs', 'Olives', 'Oranges, Mandarines', 'Orge',\n",
       "       'Plantes Oleiferes, Autre', 'Poissons Eau Douce', 'Poivre',\n",
       "       'Pommes', 'Pommes de Terre', 'Raisin', 'Riz (Eq Blanchi)',\n",
       "       'Sucre Eq Brut', 'Sucre, betterave', 'Sucre, canne', 'Sésame',\n",
       "       'Thé', 'Tomates', \"Viande d'Ovins/Caprins\", 'Viande de Bovins',\n",
       "       'Viande de Volailles', 'Viande, Autre', 'Vin', 'Épices, Autres',\n",
       "       'Alcool, non Comestible', 'Animaux Aquatiques Autre',\n",
       "       'Arachides Decortiquees', 'Avoine', 'Bananes plantains',\n",
       "       'Boissons Fermentés', 'Cephalopodes', 'Citrons & Limes',\n",
       "       'Crustacés', 'Girofles', 'Graines Colza/Moutarde', 'Haricots',\n",
       "       'Huile de Coco', 'Huile de Germe de Maïs', 'Huile de Palmistes',\n",
       "       'Huiles de Foie de Poisso', 'Huiles de Poissons', 'Ignames',\n",
       "       'Manioc', 'Mollusques, Autres', 'Oignons', 'Palmistes',\n",
       "       'Pamplemousse', 'Patates douces', 'Perciform', 'Piments',\n",
       "       'Plantes Aquatiques', 'Pois', 'Poissons Marins, Autres',\n",
       "       'Poissons Pelagiques', 'Racines nda', 'Seigle', 'Soja', 'Sorgho',\n",
       "       'Viande de Suides', 'Huile de Son de Riz', 'Sucre non centrifugé',\n",
       "       'Viande de Anim Aquatiq'], dtype=object)"
      ]
     },
     "execution_count": 33,
     "metadata": {},
     "output_type": "execute_result"
    }
   ],
   "source": [
    "#on vient afficher la liste des produits afin d'en extraire seulement une liste de céréales\n",
    "dispoAlimentaire['Produit'].unique() "
   ]
  },
  {
   "cell_type": "code",
   "execution_count": 34,
   "id": "11718289-44f5-4811-a87f-182044561620",
   "metadata": {},
   "outputs": [
    {
     "data": {
      "text/html": [
       "<div>\n",
       "<style scoped>\n",
       "    .dataframe tbody tr th:only-of-type {\n",
       "        vertical-align: middle;\n",
       "    }\n",
       "\n",
       "    .dataframe tbody tr th {\n",
       "        vertical-align: top;\n",
       "    }\n",
       "\n",
       "    .dataframe thead th {\n",
       "        text-align: right;\n",
       "    }\n",
       "</style>\n",
       "<table border=\"1\" class=\"dataframe\">\n",
       "  <thead>\n",
       "    <tr style=\"text-align: right;\">\n",
       "      <th></th>\n",
       "      <th>Aliments pour animaux</th>\n",
       "      <th>Nourriture</th>\n",
       "    </tr>\n",
       "    <tr>\n",
       "      <th>Produit</th>\n",
       "      <th></th>\n",
       "      <th></th>\n",
       "    </tr>\n",
       "  </thead>\n",
       "  <tbody>\n",
       "    <tr>\n",
       "      <th>Avoine</th>\n",
       "      <td>16242</td>\n",
       "      <td>3203</td>\n",
       "    </tr>\n",
       "    <tr>\n",
       "      <th>Blé</th>\n",
       "      <td>129668</td>\n",
       "      <td>427573</td>\n",
       "    </tr>\n",
       "    <tr>\n",
       "      <th>Céréales, Autres</th>\n",
       "      <td>19025</td>\n",
       "      <td>4760</td>\n",
       "    </tr>\n",
       "    <tr>\n",
       "      <th>Maïs</th>\n",
       "      <td>542233</td>\n",
       "      <td>123594</td>\n",
       "    </tr>\n",
       "    <tr>\n",
       "      <th>Millet</th>\n",
       "      <td>2640</td>\n",
       "      <td>20567</td>\n",
       "    </tr>\n",
       "    <tr>\n",
       "      <th>Orge</th>\n",
       "      <td>89836</td>\n",
       "      <td>5202</td>\n",
       "    </tr>\n",
       "    <tr>\n",
       "      <th>Riz (Eq Blanchi)</th>\n",
       "      <td>33594</td>\n",
       "      <td>335914</td>\n",
       "    </tr>\n",
       "    <tr>\n",
       "      <th>Seigle</th>\n",
       "      <td>8091</td>\n",
       "      <td>5467</td>\n",
       "    </tr>\n",
       "    <tr>\n",
       "      <th>Sorgho</th>\n",
       "      <td>9164</td>\n",
       "      <td>20148</td>\n",
       "    </tr>\n",
       "    <tr>\n",
       "      <th>Total</th>\n",
       "      <td>850493</td>\n",
       "      <td>946428</td>\n",
       "    </tr>\n",
       "  </tbody>\n",
       "</table>\n",
       "</div>"
      ],
      "text/plain": [
       "                  Aliments pour animaux  Nourriture\n",
       "Produit                                            \n",
       "Avoine                            16242        3203\n",
       "Blé                              129668      427573\n",
       "Céréales, Autres                  19025        4760\n",
       "Maïs                             542233      123594\n",
       "Millet                             2640       20567\n",
       "Orge                              89836        5202\n",
       "Riz (Eq Blanchi)                  33594      335914\n",
       "Seigle                             8091        5467\n",
       "Sorgho                             9164       20148\n",
       "Total                            850493      946428"
      ]
     },
     "execution_count": 34,
     "metadata": {},
     "output_type": "execute_result"
    }
   ],
   "source": [
    "# on vient ensuite filtrer le df dispo Alimentaire avec cette liste de céréales\n",
    "cereales = ['Blé', 'Céréales, Autres', 'Maïs', 'Millet', 'Orge', 'Riz (Eq Blanchi)', 'Avoine', 'Seigle', 'Sorgho']\n",
    "allocationCereales = dispoAlimentaire.loc[dispoAlimentaire['Produit'].isin(cereales), ('Produit','Aliments pour animaux', 'Nourriture')]\n",
    "# on vient ensuite nettoyer la donnée afin de pouvoir calculer (suppression des valeurs vides + modification de type)\n",
    "allocationCereales.dropna(inplace=True)\n",
    "allocationCereales[['Aliments pour animaux', 'Nourriture']] = allocationCereales[['Aliments pour animaux', 'Nourriture']].astype('int64')\n",
    "# on groupe les informations par type de céréale et on viens ajouter une ligne total pour plus de granularité et une meilleur lisibilité de l'information\n",
    "allocationCereales = (allocationCereales.groupby('Produit').sum()[['Aliments pour animaux', 'Nourriture']])\n",
    "allocationCereales.loc['Total']=allocationCereales.sum()\n",
    "allocationCereales"
   ]
  },
  {
   "cell_type": "code",
   "execution_count": 35,
   "id": "f7974050-8371-4512-bf86-66434d5dbac9",
   "metadata": {},
   "outputs": [
    {
     "name": "stdout",
     "output_type": "stream",
     "text": [
      "En 2013 45.91 % de la production mondiale de cereales était destinée a l'alimentation animale, contre 54.09 % dédiée directement à l'alimentation humaine\n"
     ]
    }
   ],
   "source": [
    "# calcul des proportions de cereales dédiée à la l'alimentation animale en comparaison de celle dédiée à la nourriture humaine\n",
    "cerealesViande = dispoAlimentaire.loc[dispoAlimentaire['Produit'].isin(cereales)].sum()[['Aliments pour animaux']].values[0]\n",
    "cerealesNourriture = dispoAlimentaire.loc[dispoAlimentaire['Produit'].isin(cereales)].sum()[['Nourriture']].values[0]\n",
    "cerealesTotal = cerealesViande + cerealesNourriture\n",
    "print(\"En 2013\", round(cerealesViande/cerealesTotal*100,2),\"% de la production mondiale de cereales était destinée a l'alimentation animale, contre\",round(cerealesNourriture/cerealesTotal*100,2),\"% dédiée directement à l'alimentation humaine\")"
   ]
  },
  {
   "cell_type": "markdown",
   "id": "680535a1-307c-41b6-839d-2632c437b7c5",
   "metadata": {},
   "source": [
    "La part de cereale employée pour la nourriture animale me semble très importante a la lumière de ce que j'ai pu constater au fil de l'analyse des données effectuée (notamment sur la sous nutrition de le monde), creusons en ce sens : "
   ]
  },
  {
   "cell_type": "code",
   "execution_count": 36,
   "id": "25c9adaf-076f-4e49-b41d-95da353d69cb",
   "metadata": {},
   "outputs": [
    {
     "name": "stdout",
     "output_type": "stream",
     "text": [
      "En effet, sur la même année, les produits d'origine animale représentaient seulement 24.28 % de la nourriture mondiale disponible, les 75.72 % restants etant issu du vegetal\n"
     ]
    }
   ],
   "source": [
    "# Part du vegetal et de l'animal dans la nourriture mondiale (au global)\n",
    "nourritureAnimale = dispoAlimentaire.loc[dispoAlimentaire['Origine']== 'animale'].sum()[['Nourriture']].values[0]\n",
    "nourritureVegetale = dispoAlimentaire.loc[dispoAlimentaire['Origine']== 'vegetale'].sum()[['Nourriture']].values[0]\n",
    "nourritureTotale = dispoAlimentaire.sum()[['Nourriture']].values[0]\n",
    "\n",
    "print(\"En effet, sur la même année, les produits d'origine animale représentaient seulement\",round(nourritureAnimale/nourritureTotale*100,2),\"% de la nourriture mondiale disponible, les\",round(nourritureVegetale/nourritureTotale*100,2),\"% restants etant issu du vegetal\")\n"
   ]
  },
  {
   "cell_type": "markdown",
   "id": "13ce4b11-46b5-4cf8-98fc-bfd30bf9ae38",
   "metadata": {},
   "source": [
    "**il semblerait donc que rentabilité alimentaire de la production de nourriture d'origine animale ne justifie pas une telle répartition de la production de céréales si on souhaite réduire la sous nutrition dans le monde**\n",
    "\n",
    "En somme : allouer une plus faible quantité de cereales a la production de nourriture d'orgine animale afin d'employer le surplus dégagé directement en tant que nourriture pourrait être bénéfique pour l'humanité"
   ]
  },
  {
   "cell_type": "markdown",
   "id": "f2879c03-44da-4c0e-8c4a-ed2c17e19438",
   "metadata": {},
   "source": [
    "### 2. Utilisation du manioc en Thaïlande"
   ]
  },
  {
   "cell_type": "code",
   "execution_count": 37,
   "id": "93124280-6ae4-4187-828a-f32d29760246",
   "metadata": {},
   "outputs": [
    {
     "data": {
      "text/html": [
       "<div>\n",
       "<style scoped>\n",
       "    .dataframe tbody tr th:only-of-type {\n",
       "        vertical-align: middle;\n",
       "    }\n",
       "\n",
       "    .dataframe tbody tr th {\n",
       "        vertical-align: top;\n",
       "    }\n",
       "\n",
       "    .dataframe thead th {\n",
       "        text-align: right;\n",
       "    }\n",
       "</style>\n",
       "<table border=\"1\" class=\"dataframe\">\n",
       "  <thead>\n",
       "    <tr style=\"text-align: right;\">\n",
       "      <th></th>\n",
       "      <th>Zone</th>\n",
       "      <th>Produit</th>\n",
       "      <th>Production</th>\n",
       "      <th>Exportations - Quantité</th>\n",
       "      <th>Proportion d'exportation</th>\n",
       "      <th>Année</th>\n",
       "      <th>Personnes sous alimentées</th>\n",
       "    </tr>\n",
       "  </thead>\n",
       "  <tbody>\n",
       "    <tr>\n",
       "      <th>0</th>\n",
       "      <td>Thaïlande</td>\n",
       "      <td>Manioc</td>\n",
       "      <td>30228.0</td>\n",
       "      <td>25214.0</td>\n",
       "      <td>83.41</td>\n",
       "      <td>2013</td>\n",
       "      <td>6.2</td>\n",
       "    </tr>\n",
       "  </tbody>\n",
       "</table>\n",
       "</div>"
      ],
      "text/plain": [
       "        Zone Produit  Production  Exportations - Quantité  \\\n",
       "0  Thaïlande  Manioc     30228.0                  25214.0   \n",
       "\n",
       "   Proportion d'exportation  Année Personnes sous alimentées  \n",
       "0                     83.41   2013                       6.2  "
      ]
     },
     "execution_count": 37,
     "metadata": {},
     "output_type": "execute_result"
    }
   ],
   "source": [
    "# on vient filtrer le df sousNutrition sur l'année 2013 et sur la Thaïlande uniquement\n",
    "sousNutritionThai2013 = sousNutrition.loc[(sousNutrition['Année'] == 2013) & (sousNutrition['Zone'] == 'Thaïlande'),:].copy()\n",
    "sousNutritionThai2013.rename(columns = {'Valeur':'Personnes sous alimentées'}, inplace = True)\n",
    "# en parallèle on filtre le df dispoAlimentaire afin de n'avoir que des données concernant le Manioc sur le territoire Thaïlandais également\n",
    "maniocThailande = dispoAlimentaire.loc[(dispoAlimentaire['Produit'] == 'Manioc') & (dispoAlimentaire['Zone'] == \"Thaïlande\"), ('Zone','Produit','Production','Exportations - Quantité')]\n",
    "maniocThailande[\"Proportion d'exportation\"] = round(maniocThailande['Exportations - Quantité'] / maniocThailande['Production'] * 100,2)\n",
    "# enfin on vient fusionner ces deux df afin d'afficher dans un meme tableau l'ensemble des données pour pouvoir analyser\n",
    "maniocThaiSousNut = pd.merge(maniocThailande, sousNutritionThai2013, on=['Zone'], how='left')\n",
    "maniocThaiSousNut"
   ]
  },
  {
   "cell_type": "markdown",
   "id": "7f5af851-1855-49a7-a774-2b1623ec9852",
   "metadata": {},
   "source": [
    "Malgré 6,2 millions de personnes en état de sous nutrition dans le pays, la Thaïlande continue d'exporter plus de 83% de sa production de manioc au lieu de s'en servir pour nourrir ses habitants"
   ]
  }
 ],
 "metadata": {
  "kernelspec": {
   "display_name": "ds_kernel",
   "language": "python",
   "name": "ds_kernel"
  },
  "language_info": {
   "codemirror_mode": {
    "name": "ipython",
    "version": 3
   },
   "file_extension": ".py",
   "mimetype": "text/x-python",
   "name": "python",
   "nbconvert_exporter": "python",
   "pygments_lexer": "ipython3",
   "version": "3.9.12"
  }
 },
 "nbformat": 4,
 "nbformat_minor": 5
}
